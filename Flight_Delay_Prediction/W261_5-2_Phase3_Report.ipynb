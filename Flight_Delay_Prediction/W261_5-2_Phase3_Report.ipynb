{
 "cells": [
  {
   "cell_type": "markdown",
   "metadata": {
    "application/vnd.databricks.v1+cell": {
     "cellMetadata": {},
     "inputWidgets": {},
     "nuid": "840e1aa1-36e1-4bd8-9333-9dc3d1b6d560",
     "showTitle": false,
     "title": ""
    }
   },
   "source": [
    "# <center>On-Time Departure: A Deep Dive into Flight Delay Prediction Models\n",
    "## <center>Team 5-2\n",
    "### <center>Phase 3 Leader: Jorge Bonilla\n",
    "#### Project Audience: Executives in the airline industry focused on improving customer experience\n",
    "\n",
    "| Name        | Email       | Picture     |\n",
    "| ----------- | ----------- | ----------- |\n",
    "| Jorge Bonilla      | bonillaj@berkeley.edu       | <img src=https://raw.githubusercontent.com/bonillajorge/w261/main/jorge_bonilla.jpg alt=\"Jorge Bonilla\" width=\"200\" height=\"200\"/> |\n",
    "| Roshni Tajnekar   | roshnit@berkeley.edu        | <img src=https://raw.githubusercontent.com/bonillajorge/w261/main/IMG_0469.jpg alt=\"Roshni Tajnekar\" width=\"200\" height=\"200\"/>   |\n",
    "| Tyrnan Prasad   | prasadtyrnan@berkeley.edu        |   <img src=https://raw.githubusercontent.com/bonillajorge/w261/main/IMG_0249.jpg alt=\"Tyrnan Prasad\" width=\"200\" height=\"200\"/>          |\n",
    "| Hardeep Sangha   | sanghahs@berkeley.edu        |  <img src=\"https://raw.githubusercontent.com/sanghahss/w261/main/_GWF9633_1.jpg\" alt=\"Hardeep Sangha\" width=\"200\" height=\"200\"/>           |"
   ]
  },
  {
   "cell_type": "markdown",
   "metadata": {
    "application/vnd.databricks.v1+cell": {
     "cellMetadata": {},
     "inputWidgets": {},
     "nuid": "3535bed2-4f6a-4f34-93e6-6e03d6848ebe",
     "showTitle": false,
     "title": ""
    }
   },
   "source": [
    "# <center>Credit Assignment Plan\n",
    "\n",
    "| Phase | Task | Description | Hours Estimate | Assigned To | SMART Goals |\n",
    "| -------- | -------- | -------- | -------- | -------- | -------- |\n",
    "| 2 | Dataset Joins | Joining the Flights and Weather data for extra credit | 8 | Tyrnan | Starting 11/18, completed Joins and explanation by 12/3 |\n",
    "| 2 | EDA - Flights Data | EDA and visuals for flights dataset | 16 | Jorge | Starting 11/6, completed EDA and several highly explanatory visuals by 11/26 |\n",
    "| 2 | EDA - Weather Data | EDA and visuals for flights dataset | 16 | Hardeep | Starting 11/6, completed EDA and several highly explanatory visuals by 11/26 |\n",
    "| 2 | EDA - Joined Data | EDA and visuals for the joined dataset | 16 | Roshni | Starting 11/6, completed EDA and several highly explanatory visuals by 11/26 |\n",
    "| 2 | Feature Selection/Engineering | Selection of features, generation and encoding of them, construction of data pipeline for feature engineering | 40 | All | Starting 11/13, completed feature engineering pipeline by 12/1 |\n",
    "| 2 | Initial Model | Construction of initial model, implementation of grid search for best hyperparameters | 20 | All | Starting 11/20, selection of trained initial model w/ metrics by 12/2 |\n",
    "| 2 | Presentation | Creation of slide deck and script for presentation, presenting in class | 16 | All | Starting 11/23, everything prepared for presentation on 11/30 |\n",
    "| 2 | Project Notebook | Updating of project notebook to include updates for Phase II | 16 | All | Starting 12/1, notebook prepared for submission on 12/3 |\n",
    "| 3 | EDA | Flights, Airport, OTPW and Weather for 5 years data | 10 | Roshni | Started 12/05 and finished, 12/14 |\n",
    "| 3 | Data Pipeline Updates | Time-series cross validation for 5 years of data | 5 | Tyrnan | Starting 12/5, ongoing until delivery 12/15 |\n",
    "| 3 | Logistic Regression Updates | Evaluate model, perform hyperparameter tuning, and report performance | 1 | Tyrnan | Started and finished, 12/5 |\n",
    "| 3 | Random Forest | Evaluate model, perform hyperparameter tuning, and report performance | 8 | Roshni |Started 12/05 and finished, 12/16  |\n",
    "| 3 | Multi-Layer Perceptron Neural Network | Evaluate model, perform hyperparameter tuning, and report performance | 12 | Hardeep | Started 12/05 and finished, 12/16 |\n",
    "| 3 | XGBoost | Evaluate model, perform hyperparameter tuning, and report performance | 8 | Jorge | Started 12/05, notebook prepared for submission on 12/16 |\n",
    "| 3 | Gradient-boosting Trees | Evaluate model, perform hyperparameter tuning, and report performance | 8 | Jorge | Started 12/05, notebook prepared for submission on 12/16 |\n",
    "| 3 | PageRank Feature | Implement a PageRank feature applied to the airports | 6 | Jorge | Started 12/07, completed for subbmission on 12/16 |\n",
    "| 3 | Presentation | Update of slide deck and script for presentation, presenting in class | 16 | All | Started 12/05, everything prepared for presentation on 12/14 |\n",
    "| 3 | Project Notebooks | Updating of project notebooks to include updates for Phase III | 16 | All | Started 12/05, notebook prepared for submission on 12/16 |"
   ]
  },
  {
   "cell_type": "markdown",
   "metadata": {
    "application/vnd.databricks.v1+cell": {
     "cellMetadata": {},
     "inputWidgets": {},
     "nuid": "decec079-9bc7-4074-aeb1-1ac931b0e111",
     "showTitle": true,
     "title": " "
    }
   },
   "source": [
    "# Project Abstract\n",
    "In the commercial aviation industry, flight delays contribute to frustration and loss of productivity. According to AirHelp, a passenger rights organization, passengers paid an average of $383 extra due to flight delays. AirHelp also estimates an approximately $30 to 34 billion impact to GDP due to flight delays\\\\({^1}{^,}{^2}{^,}{^3}\\\\). The purpose of this project is to help the executives in the aviation industry enhance the customer experience by developing a model that determines if a flight will be delayed by 15 minutes using weather, flight, and airport data spanning 2015 through 2019. The flights and airport data was provided by the Department of Transportation and contains 31 million rows with 107 features. Weather data consists of hourly reading conditions on range of weather variables as provided by the National Oceanic and Atmospheric Administration (NOAA). A Departure Delay is defined as a flight departure 15 minutes or more from the scheduled departure. While the emphasis of Phase 2 was to explore the data, engineer features, and develop a baseline logistic regression model, Phase 3 focused on experimenting with multiple machine learning algorithms and scaling up our efforts to handle 5 years of data. The F1 score is the primary metric to assess success because this is a metric that gives us a better indication of the ratio of Precision and Recall in such cases when the dataset is imbalanced. In this case, we have a 4:1 ratio of On-Time flights to Delayed flights. The baseline results during Phase 2 provide an F1 score of 28.0% in classifying flights as delayed or not delayed. In Phase 3, we experimented with XGBoost, Random Forest, Multi-Layer Perceptron Neural Networks, and Gradient-boosted Trees. The best model to predict delays against the blind dataset is the Gradient-boosted tree which achieved an F1 score of 0.418, Recall of 0.655, and Precision of 0.307. Lastly, we provide a Gap Analysis of the best pipeline addressing areas where we did not meet expectations as well as areas for improvement.\n"
   ]
  },
  {
   "cell_type": "markdown",
   "metadata": {
    "application/vnd.databricks.v1+cell": {
     "cellMetadata": {},
     "inputWidgets": {},
     "nuid": "32dacbca-c87a-4266-b1c6-c2f567e63571",
     "showTitle": false,
     "title": ""
    }
   },
   "source": [
    "\n",
    "## Data and Feature Engineering\n",
    "\n",
    "### Airline Flights\n",
    "**Summary of Airline Flight Data:** flight logs with information about the airline, origin airport, destination airport, time of the flight, and information about delays in the arrival and departure of the flight within the United States. For the purposes of training machine learning models, we used the following features from the airline flights dataset for modeling and derive other features in predicting flight delays:\n",
    "\n",
    "| COLUMN | DATA TYPE | DESCRIPTION |\n",
    "| --- | --- | --- |\n",
    "| DAY_OF_MONTH | Integer | Day of Month |\n",
    "| DAY_OF_WEEK | Integer | Day of Week |\n",
    "| FL_DATE | String | Flight Date (yyyy-mm-dd) |\n",
    "| ORIGIN | String | Origin Airport |\n",
    "| DEST | String | Destination Airport |\n",
    "| DEP_DEL15 | Double | Departure Delay Indicator, 15 Minutes or More (1=Yes) |\n",
    "| DEP_TIME_BLK | String | CRS Departure Time Block, Hourly Intervals |\n",
    "\n",
    "\n",
    "\n",
    "Source: https://www.transtats.bts.gov/Fields.asp?gnoyr_VQ=FGJ\n",
    "\n",
    "### Weather Conditions\n",
    "\n",
    "**Summary of Weather Data:** weather logs collected from a variety of stations and have information about the location of the station, the time of the measurement, and a suite of weather measurements concerning things like temperature, precipitation, and pressure across a range of time periods and, in some cases, in reference to typical patterns for that time of year.\n",
    "\n",
    "#### Hourly Weather Columns\n",
    "\n",
    "| COLUMN | DATA TYPE | DESCRIPTION |\n",
    "| --- | --- | --- |\n",
    "| HourlyDryBulbTemperature | String | This is the dry-bulb temperature and is commonly used as the standard air temperature reported. It is given here in whole degrees Fahrenheit. |\n",
    "| HourlyWetBulbTemperature | String | This is the wet-bulb temperature. It is given here in whole degrees Fahrenheit. |\n",
    "| HourlyWindSpeed | String | Speed of the wind at the time of observation given in miles per hour (mph). |\n",
    "| HourlyRelativeHumidity | String | This is the relative humidity given to the nearest whole percentage. |\n",
    "|HourlyAltimeterSetting | String | Atmospheric pressure reduced to sea level using temperature profile of the “standard atmosphere. Given in inches of Mercury (in Hg)|\n",
    "|HourlyDewPointTemperature | String | This is the dew point temperature (in whole degrees Fahrenheit) |\n",
    "|HourlyPrecipitation | String | Amount of precipitation in inches to hundredths over the past hour.|\n",
    "|HourlyPressureChange |String | This is the pressure (in inches of mercury, to hundredths) |\n",
    "|HourlyPressureTendency | String | Pressure tendency (In general a 0 through 3 here indicates an increase in pressure over previous 3 hours and a 5 through 8 indicates a decrease over the previous 3 hours and 4 indicates no change during the previous 3 hours).|\n",
    "| HourlyRelativeHumidity | String | This is the relative humidity given to the nearest whole percentage. | \n",
    "| HourlySkyConditions | String | A report of each cloud layer (up to 3) giving the following information. Each layer given in the following format: ccc:ll-xxx where: 1) ccc is Coverage: CLR (clear sky), FEW (few clouds), SCT (scattered clouds), BKN (broken clouds), OVC (overcast), VV (obscured sky), 10 (partially obscured sky). |\n",
    "| HourlySeaLevelPressure | String | Sea level pressure given in inches of Mercury (in Hg). |\n",
    "| HourlyStationPressure | String | Atmospheric pressure observed at the station during the time of observation. Given in inches of Mercury (in Hg). |\n",
    "| HourlyVisibility | String | The horizontal distance an object can be seen and identified given in whole miles. Note visibilities less than 3 miles are usually given in smaller increments (e.g. 2.5). |\n",
    "| HourlyWetBulbTemperature | String | This is the wet-bulb temperature. It is given here in whole degrees Fahrenheit.|\n",
    "| HourlyWindDirection | String | Wind direction from true north using compass directions (e.g. 360 = true north, 180 = south, 270 = west, etc.). Note: A direction of “000” is given for calm winds. |\n",
    "| HourlyWindGustSpeed | String | Wind gusts occurring during time of observation. Given in miles per hour (mph). |\n",
    "| HourlyWindSpeed | String | Speed of the wind at the time of observation given in miles per hour (mph). |\n",
    "\n",
    " \n",
    "\n",
    "\n",
    "\n",
    "#### HourlyPresentWeatherType Column\n",
    "AU codes are present they are listed first for weather type. AU codes are acquired from automated weather\n",
    "sensors. Codes for precipitation and obscurations are defined below:\n",
    "\n",
    "| COLUMN | DATA TYPE | DESCRIPTION |\n",
    "| --- | --- | --- |\n",
    "| DZ:01  | String |Drizzle|\n",
    "| RA:02  | String |Rain|\n",
    "| SN:03 | String |Snow|\n",
    "| SG:04  | String |Snow Grains|\n",
    "| IC:05 | String |Ice Crystals|\n",
    "| PL:06 | String |Ice Pellets |\n",
    "| GR:07 | String | Hail|\n",
    "| GS:08 | String | Small Hail an/or Snow Pellets |\n",
    "| UP:09 | String | Unknown Precipitation |\n",
    "| BR:1 | String | Mist |\n",
    "| FG:2 | String | Fog |\n",
    "| FU:3 | String | Smoke |\n",
    "| VA:4 | String | Volcanic Ash |\n",
    "| DU:5 | String | Widespread Dust |\n",
    "| SA:6 | String | Sand |\n",
    "| HZ:7 | String | Haze |\n",
    "| PY:8 | String | Spray |\n",
    "| PO:1 | String | Well developed dust/sand whirls |\n",
    "| SQ:2 | String | Squalls |\n",
    "| FC:3 | String | Funnel CLoud, Waterspout or Tornado |\n",
    "| SS:4 | String | Sandstorm |\n",
    "| DS:5 | String | Duststorm |\n",
    "\n",
    "### Airport Information\n",
    "\n",
    "**Summary of Airline Flight Data:** information on airports in the United States provided by the U.S. Department of Transportation. Contains information for approximately 10,000 airports.\n",
    "\n",
    "| COLUMN | DATA TYPE | DESCRIPTION |\n",
    "| --- | --- | --- |\n",
    "| Airport ID | Integer | Unique OpenFlights identifier for this airport |\n",
    "| Name | String | Name of airport. May or may not contain the City name |\n",
    "| City | String | Main city served by airport. May be spelled differently from Name |\n",
    "| Country | String |\tCountry or territory where airport is located. See Countries to cross-reference to ISO 3166-1 codes |\n",
    "| Latitude | Float | Decimal degrees, usually to six significant digits. Negative is South, positive is North. |\n",
    "| Longitude | Float |\tDecimal degrees, usually to six significant digits. Negative is West, positive is East. |\n",
    "| Timezone | String |\tHours offset from UTC. Fractional hours are expressed as decimals, eg. India is 5.5. |\n",
    "| Tz database timezone | String |\tTimezone in \"tz\" (Olson) format, eg. \"America/Los_Angeles\".\n",
    "\n",
    "Source: https://openflights.org/data.php\n",
    "\n",
    "### Engineered Features\n",
    "\n",
    "| NAME | DESCRIPTION |\n",
    "| --- | --- |\n",
    "| windowed_delays_hour | Temporal window across origin, destination, and carrier and gets the ratio of delays for between 3 and 2 hours prior to scheduled departure |\n",
    "| windowed_delays_day | Temporal window across origin, destination, and carrier and gets the ratio of delays for between 26 and 2 hours prior to scheduled departure |\n",
    "| windowed_delays_month | Temporal window across origin, destination, and carrier and gets the ratio of delays for the last month up to 2 months prior to scheduled departure |\n",
    "| Flight Departure Time Slot | Categorical variable that maps the timeslot of the scheduled departure into morning, mid-morning, afternoon, evening, and night |\n",
    "| Holidays | Binary value indicating if the day falls on a holiday |\n",
    "| Holiday Rush Window | Binary value indicating if the flight departure is within 2 days |\n",
    "| Weather Type | Categorical variable denoting snow, rain, wind_dust, haze, and unknown (including weather combinations) |\n",
    "| Season | Categorical variable denoting summer, fall, winter, and spring |\n",
    "| Airport PageRank | Calculated PageRank where nodes are the airports and edges are the connections between Origin and Destination |"
   ]
  },
  {
   "cell_type": "markdown",
   "metadata": {
    "application/vnd.databricks.v1+cell": {
     "cellMetadata": {},
     "inputWidgets": {},
     "nuid": "fe03c971-fd4d-4514-8409-d38437688026",
     "showTitle": false,
     "title": ""
    }
   },
   "source": [
    "# <center>Exploratory Data Analysis (EDA)\n",
    "\n",
    "\n",
    "With the 12 month dataset on flights, weather, and airports we proceed to explore the information we have to understand the gain insights into our sources of information and establish the explanatory variables that are associated with flight delays. This approach involves removing missing values, illustrating the Spearman correlation analysis, visualizing variables related to flight delays, and engineering features to used for a model to categorize flights between \"Delayed\" and \"Not Delayed\" by 15 minutes or more.\n",
    "\n",
    "This step culminates with using the following features for our model:  \n",
    "* HourlyDryBulbTemperature\n",
    "* HourlyWetBulbTemperature\n",
    "* HourlyWindSpeed\n",
    "* HourlyRelativeHumidity\n",
    "* Delay Ratios Aggregate by Route, Carrier, and Airports\n",
    "* Windowed Delay Ratios by Route, Carrier, and Airports\n",
    "* Holiday/Holiday Season\n",
    "* Yearly Seasons\n",
    "* Day of the Week\n",
    "* Time of Day\n",
    "* Weather Type\n",
    "\n",
    "\n",
    "| Dataset Description | Rows | Columns |\n",
    "| --- | --- | --- |\n",
    "| Airline Flights - 5 Years | 31,746,841 | 109 |\n",
    "| Airports | 18,097 | 10 |\n",
    "| Weather - 5 Years | 630,904,436 | 177 |\n",
    "| Train - Fold 1 | 1,688,880 | 47 |\n",
    "| Train - Fold 2 | 1,421,400 | 47 |\n",
    "| Train - Fold 3 | 1,510,399 | 47 |\n",
    "| Train - Fold 4 | 1,593,226 | 47 |\n",
    "| Train - Fold 5 | 2,028,947 | 47 |\n",
    "| Validation - Fold 1 | 868,155 | 47 |\n",
    "| Validation - Fold 2 | 883,215 | 47 |\n",
    "| Validation - Fold 3 | 881,309 | 47 |\n",
    "| Validation - Fold 4 | 1,046,249 | 47 |\n",
    "| Validation - Fold 5 | 1,073,784 | 47 |\n",
    "| Blind Validation | 548,381 | 41 |\n",
    "| Blind Test | 6,732,281 | 41 |"
   ]
  },
  {
   "cell_type": "markdown",
   "metadata": {
    "application/vnd.databricks.v1+cell": {
     "cellMetadata": {},
     "inputWidgets": {},
     "nuid": "fffeb26c-ee77-4e5b-88d6-cb9a5e5b2e74",
     "showTitle": false,
     "title": ""
    }
   },
   "source": [
    "## Data Cleaning\n",
    "\n",
    "| Feature Selection Process | Columns | Rows | Result |\n",
    "| --- | --- | --- | --- |\n",
    "| Original Size | 216 | 1,401,363 | For OTPW 3 Months |\n",
    "| Null data analysis | 121 | 1,401,363 | Removed 95 columns with 90-100% of null values |\n",
    "| Definition of Delay (DoD) | 96 | 1,401,363 | Removed 25 columns which were not related to DoD |\n",
    "| Highly Correlated Features | 86 | 1,401,363 | Removed 10 columns |\n",
    "| Null check on DEP_DEL15 | 86 | 1,359,057 | Removed 3% rows which were cancelled flights |\n",
    "\n",
    "For the initial data cleaning steps, we utilized the 3 Month joined dataset to identify the percentage of null values in each column. There are 95 columns where each column contains between 90% and 100% of null values and they are subsequently removed from the dataset. This approach is then extended to the 1-Year, 3-Year, and 5-Year dataset as well where we find the same number of columns containing the same percentage of null values. Moreover, this table represents the following actions we took for cleaning and selecting features as explanatory variables.  Our target variable is \"DEP_DEL15\" which contains approximately 3% of null values primarily due to cancelled flights. Therefore, we remove the null values present in the \"DEP_DEL15\" column."
   ]
  },
  {
   "cell_type": "markdown",
   "metadata": {
    "application/vnd.databricks.v1+cell": {
     "cellMetadata": {},
     "inputWidgets": {},
     "nuid": "ebf816b1-4d62-40d6-93cf-9ca6d8757890",
     "showTitle": false,
     "title": ""
    }
   },
   "source": [
    "## Airline and Airport EDA\n",
    "Link to code for Airline and Airport EDA: https://adb-4248444930383559.19.azuredatabricks.net/?o=4248444930383559#notebook/190727265108670/command/2492988970888006\n"
   ]
  },
  {
   "cell_type": "markdown",
   "metadata": {
    "application/vnd.databricks.v1+cell": {
     "cellMetadata": {},
     "inputWidgets": {},
     "nuid": "e01c09a1-49a1-4e23-bd77-2bfbf40105a7",
     "showTitle": false,
     "title": ""
    }
   },
   "source": [
    "### Null Values in Airline Datasets\n",
    "The chart below represents the percentage of null values present in each column in the airlines dataset. If a column does not appear below in the chart, it means that such column does not contain any null values. We decide on eliminating columns with more than 10% of null values from our analysis. Because we defined \"Departure Delay\" as a flight departure 15 minutes or more from the scheduled departure, we will not focus on ex-post explanatory variables such as the type of delay. For the sake of the explanatory variable analysis, however, we included the type of delays as part of our pair-based visualization of the input and output features. Furthermore, we remove the null values in the DEP_DEL15 column as this is our target variable and the null values represent canceled flights. We are not interested in canceled flights since that is not in the scope of our problem statement as we only try to classify non-canceled flights as Delayed or Not-Delayed. \n",
    "\n",
    "\n",
    "\n",
    "<img src=https://raw.githubusercontent.com/bonillajorge/w261/main/airline_flight_null_value_threshold.png alt=\"Spearman Correlation\" width=\"600\" height=\"600\"/>"
   ]
  },
  {
   "cell_type": "markdown",
   "metadata": {
    "application/vnd.databricks.v1+cell": {
     "cellMetadata": {},
     "inputWidgets": {},
     "nuid": "861e38c9-a3ca-4c6e-b866-27535f905a77",
     "showTitle": false,
     "title": ""
    }
   },
   "source": [
    "### Non-Numerical Features in Airline Dataset\n",
    "After dropping columns with more than 10% of null values, there are a total of 55 columns in the airline dataset. Out of these 55 columns, 14 are non-numerical fields or about 25.45% of columns are non-numerical. Therefore, we will proceed to apply One-Hot encoding to features that can be correlated with delayed departures such as Origin Airport, Airlines, as well as engineered features such as yearly seasons, holidays, holiday rush days, day of the week, and the time of day. The subsequent Spearman correlation analysis provided below provides evidence on how correlated these One-Hot encoded variables are to the departure delay outcome variable."
   ]
  },
  {
   "cell_type": "markdown",
   "metadata": {
    "application/vnd.databricks.v1+cell": {
     "cellMetadata": {},
     "inputWidgets": {},
     "nuid": "a7a41dd7-95a2-4881-be1b-04d8dfb52a94",
     "showTitle": false,
     "title": ""
    }
   },
   "source": [
    "### Summary Statistics: Airline Flights for 5 Years\n",
    "\n",
    "<img src=https://raw.githubusercontent.com/bonillajorge/w261/main/summary_statistics.png alt=\"Summary Statistics\" width=\"2000\" height=\"2000\"/>\n",
    "\n"
   ]
  },
  {
   "cell_type": "markdown",
   "metadata": {
    "application/vnd.databricks.v1+cell": {
     "cellMetadata": {},
     "inputWidgets": {},
     "nuid": "57e3607c-f139-4fe6-9495-eeccab6511fd",
     "showTitle": false,
     "title": ""
    }
   },
   "source": [
    "The summary statistics in the airline dataset further illustrate the imbalanced nature of delayed flights where the mean is 0.1758 with a standard deviation of 0.38. This summary statistic on DEP_DEL15 validates our need to use the F1 score due to the imbalance found in this dataset."
   ]
  },
  {
   "cell_type": "markdown",
   "metadata": {
    "application/vnd.databricks.v1+cell": {
     "cellMetadata": {
      "byteLimit": 2048000,
      "rowLimit": 10000
     },
     "inputWidgets": {},
     "nuid": "080228f9-d7b4-40ac-bcfe-5c201c762688",
     "showTitle": false,
     "title": ""
    }
   },
   "source": [
    "### Histogram of Percentage of Flights Delayed and Top Airlines by Delay-to-Flight Ratios\n",
    "\n",
    "<img src=https://raw.githubusercontent.com/bonillajorge/w261/main/distribution_of_percentage_flights_delayed.png alt=\"Distribution\" width=\"400\" height=\"400\"/>\n",
    "\n",
    "<img src=https://raw.githubusercontent.com/bonillajorge/w261/main/airline_carrier_ratio.png alt=\"Delayed Flight Ratio\" width=\"600\" height=\"600\"/>\n",
    "\n",
    "<img src=https://raw.githubusercontent.com/bonillajorge/w261/main/bar_chart_total_counts.png alt=\"Bar Chart\" width=\"400\" height=\"400\"/>\n"
   ]
  },
  {
   "cell_type": "markdown",
   "metadata": {
    "application/vnd.databricks.v1+cell": {
     "cellMetadata": {},
     "inputWidgets": {},
     "nuid": "c7895f6b-7f90-4e3b-afa3-453c758fed6e",
     "showTitle": false,
     "title": ""
    }
   },
   "source": [
    "The distribution of percentage of flights delayed shows that, on average, about 17% of flights are delayed accross all airports in the US. We see similar metrics accross the unique carrier types. The top Delay-to-Flight ratio is about 25% which is assigned to the F9 carrier. Consequently, we include the type of carrier as a feature in the base Linear Regression model. The bar chart on the right shows that there is a 4:1 ratio of flights On-Time to flights delayed, further highlighting the imbalanced nature of the flights data."
   ]
  },
  {
   "cell_type": "markdown",
   "metadata": {
    "application/vnd.databricks.v1+cell": {
     "cellMetadata": {},
     "inputWidgets": {},
     "nuid": "bbeeca77-0a0d-4d72-a0a0-8b87b0602662",
     "showTitle": false,
     "title": ""
    }
   },
   "source": [
    "### Ratio of Delays Per Day and Time-Slot\n",
    "\n",
    "<img src=https://raw.githubusercontent.com/bonillajorge/w261/main/delayed_flights_per_day.png alt=\"Spearman Correlation\" width=\"600\" height=\"600\"/>\n",
    "\n",
    "<img src=https://raw.githubusercontent.com/bonillajorge/w261/main/delayed_flights_per_time_slot.png alt=\"Spearman Correlation\" width=\"600\" height=\"600\"/>"
   ]
  },
  {
   "cell_type": "markdown",
   "metadata": {
    "application/vnd.databricks.v1+cell": {
     "cellMetadata": {},
     "inputWidgets": {},
     "nuid": "094c2591-d8ef-447d-8528-78509342de6e",
     "showTitle": false,
     "title": ""
    }
   },
   "source": [
    "The two charts above show the distribution of two features derived from this airlines dataset: variables for the day of the week and time slot in the day. Throught the days of the week, there is a consistent delay flight percentage at around 19% which is a useful feature to control for in the linear regression. It is valuable to note that as the days progress, the rate of delay increases from 10% flight delays in the morning to 24.66% percent of flights delayed in the evening and night. This makes sense as we would expect the airports to become increasingly busier as the days progress. These two engineerd features are crucial for our classification efforts and it gives us a better understanding of our data."
   ]
  },
  {
   "cell_type": "markdown",
   "metadata": {
    "application/vnd.databricks.v1+cell": {
     "cellMetadata": {},
     "inputWidgets": {},
     "nuid": "cea34a24-67c1-4044-b90e-8d1ea5900115",
     "showTitle": false,
     "title": ""
    }
   },
   "source": [
    "### Top Airports by Delays and On-Time Flights\n",
    "\n",
    "<img src=https://raw.githubusercontent.com/bonillajorge/w261/main/top_25_aiport_delayed_undelayed.png alt=\"Spearman Correlation\" width=\"600\" height=\"600\"/>"
   ]
  },
  {
   "cell_type": "markdown",
   "metadata": {
    "application/vnd.databricks.v1+cell": {
     "cellMetadata": {},
     "inputWidgets": {},
     "nuid": "0dd9a1fc-382f-4914-adae-95cc195ca794",
     "showTitle": false,
     "title": ""
    }
   },
   "source": [
    "The bar chart above shows the top airport codes with ratios of Delay to No Delays as part of the EDA on the Airports dataset. This shows us the busiest airports in the country and it is another feature we control for in the baseline logistic regression model. We also calculate the PageRank scores in order to control for the importance of an airport relative to other airports in the United States. We use this PageRank score as a feature in our machine learning experiments."
   ]
  },
  {
   "cell_type": "markdown",
   "metadata": {
    "application/vnd.databricks.v1+cell": {
     "cellMetadata": {},
     "inputWidgets": {},
     "nuid": "1e84c774-2b82-4d84-b342-02c328852760",
     "showTitle": false,
     "title": ""
    }
   },
   "source": [
    "## Geospatial Distribution of Domestic Flight Delays\n",
    "\n",
    "<img src=https://raw.githubusercontent.com/bonillajorge/w261/main/map.png alt=\"Map of Flight Delays\" width=\"900\" height=\"900\"/>"
   ]
  },
  {
   "cell_type": "markdown",
   "metadata": {
    "application/vnd.databricks.v1+cell": {
     "cellMetadata": {},
     "inputWidgets": {},
     "nuid": "5d0dd946-ef85-4ddd-a5da-ad637f0eb52c",
     "showTitle": false,
     "title": ""
    }
   },
   "source": [
    "\n",
    "Lastly, we present a geospatial distribution of flight delays per each airport in the United States between 2015 and 2019. As expected, we notice that most of the flight delays occur in the biggest metropolitan cities in the country. But we also notice that there are other clusters of flight delay activity in Colorado, Illinois, and Utah. This tells us that not only is it crucial to control for Airport origin and destination, but to have a PageRank feauture in the model to assess airport importance relative to other airports denoted as a graph space."
   ]
  },
  {
   "cell_type": "markdown",
   "metadata": {
    "application/vnd.databricks.v1+cell": {
     "cellMetadata": {},
     "inputWidgets": {},
     "nuid": "79cd7d62-1b34-4fbc-9320-e8564b7eaf19",
     "showTitle": false,
     "title": ""
    }
   },
   "source": [
    "## Weather EDA"
   ]
  },
  {
   "cell_type": "markdown",
   "metadata": {
    "application/vnd.databricks.v1+cell": {
     "cellMetadata": {},
     "inputWidgets": {},
     "nuid": "31192dc5-82e0-4378-8efb-08ed8b1f3ceb",
     "showTitle": false,
     "title": ""
    }
   },
   "source": [
    "Link to Weather EDA Notebook https://adb-4248444930383559.19.azuredatabricks.net/?o=4248444930383559#notebook/2798664673108659/command/2798664673108660"
   ]
  },
  {
   "cell_type": "markdown",
   "metadata": {
    "application/vnd.databricks.v1+cell": {
     "cellMetadata": {},
     "inputWidgets": {},
     "nuid": "79dbde17-6b2a-4633-9874-d73d06858410",
     "showTitle": false,
     "title": ""
    }
   },
   "source": [
    "\n",
    "<br>\n",
    "Below analysis is shown for the HourlyPresentWeatherType feature and impact of different weather conditions encoded by this feature. Weather conditions are encoded using grouping as specified in the snippet below  \n",
    "\n",
    "```\n",
    "snow = ['SN:03', 'SG:04', 'IC:05', 'PL:06', 'GR:07', 'GS:08', 'SQ:2']\n",
    "rain = ['DZ:01', 'RA:02', 'UP:09', 'PY:8', 'FC:3']\n",
    "wind_dust = ['FU:3', 'VA:4', 'DU:5', 'SA:6', 'PO:1', 'SS:4', 'DS:5']\n",
    "haze = ['BR:1','HZ:7']\n",
    "\n",
    "```\n",
    "\n",
    "<br>\n",
    "<img src=\"https://raw.githubusercontent.com/sanghahss/w261/main/by_type.png\" alt=\"Impact of Weather Type\" width=\"600\" height=\"600\"/> \n"
   ]
  },
  {
   "cell_type": "markdown",
   "metadata": {
    "application/vnd.databricks.v1+cell": {
     "cellMetadata": {},
     "inputWidgets": {},
     "nuid": "174ea21a-ddf7-4e9b-9a83-b3c32869955c",
     "showTitle": false,
     "title": ""
    }
   },
   "source": [
    "\n",
    "We further decided to understand the impact of weather conditions by grouping the different weather codes and understanding the impact to the target variable, eda notebook has the entire table, shown below is a snapshot of the table and showing the impact snow, and rain has to the target variable\n",
    "\n",
    "<br>\n",
    "\n",
    "<br>\n",
    "<img src=\"https://raw.githubusercontent.com/sanghahss/w261/main/weather_type_code_grouping.png\" alt=\"Grouping of the Weather Type Codes\" width=\"600\" height=\"600\"/>"
   ]
  },
  {
   "cell_type": "markdown",
   "metadata": {
    "application/vnd.databricks.v1+cell": {
     "cellMetadata": {},
     "inputWidgets": {},
     "nuid": "64fbce51-2ee4-4095-8179-be0e16bf18b9",
     "showTitle": false,
     "title": ""
    }
   },
   "source": [
    "\n",
    "We also decided to understand the impact of weather for the 20 coldest cities in US, and whether there is a relationship between how severe the weather conditions are and how do they correlate to delayed flights. 20 coldest US cities are shown below:\n",
    "\n",
    "<br>\n",
    "<img src=\"https://raw.githubusercontent.com/sanghahss/w261/main/cities.png\" alt=\"Grouping of the Weather Type Codes\" width=\"600\" height=\"600\"/>\n",
    "\n",
    "<br>\n",
    "\n",
    "Focussing on snow related weather conditions, the weather codes that were of interest are:\n",
    "\n",
    "```\n",
    "snow = ['SN:03', 'SG:04', 'IC:05', 'PL:06']\n",
    "\n",
    "```\n",
    "Delayed flight percentage across all US airports when subjected to snow related conditions is:\n",
    "\n",
    "<img src=\"https://raw.githubusercontent.com/sanghahss/w261/main/snow_only.png\" alt=\"All US airports\" width=\"600\" height=\"600\"/>\n",
    "\n",
    "<br>\n",
    "\n",
    "Delayed flight percentage across all US airports exluding the 20 coldest US airports when subjected to snow related conditions is:\n",
    "\n",
    "<img src=\"https://raw.githubusercontent.com/sanghahss/w261/main/without_20_coldest.png\" alt=\"US airports exluding the 20 coldest US airports\" width=\"600\" height=\"600\"/>\n",
    "\n",
    "<br>\n",
    "\n",
    "Delayed flight percentage for the 20 coldest US airports only when subjected to snow related conditions is:\n",
    "\n",
    "<img src=\"https://raw.githubusercontent.com/sanghahss/w261/main/20_coldest.png\" alt=\"20 coldest US airports\" width=\"600\" height=\"600\"/>\n",
    "\n",
    "<br>\n",
    "\n",
    "We could clearly see the impact of weather related to snow conditions on the target variable, another hypothesis we wanted to validate was whether the cooler the city is, the worst the delays will be, below we tested the hypothesis for Boston, Chicago, and Minneapolis, interestingly Minneapolis is the coldest city but performs much better than Chicago, and Boston. We think this is partially related to the flight volume that Chicago deals with, but overall Minneapolis is better prepared to handle inclimate weather conditions.\n",
    "\n",
    "Delayed flight percentage for Boston only when subjected to snow related conditions is:\n",
    "\n",
    "<img src=\"https://raw.githubusercontent.com/sanghahss/w261/main/boston.png\" alt=\"Boston\" width=\"600\" height=\"600\"/>\n",
    "\n",
    "<br>\n",
    "\n",
    "Delayed flight percentage for Chicago only when subjected to snow related conditions is:\n",
    "\n",
    "<img src=\"https://raw.githubusercontent.com/sanghahss/w261/main/chicago.png\" alt=\"Chicago\" width=\"600\" height=\"600\"/>\n",
    "\n",
    "<br>\n",
    "\n",
    "Delayed flight percentage for Minneapolis only when subjected to snow related conditions is:\n",
    "\n",
    "<img src=\"https://raw.githubusercontent.com/sanghahss/w261/main/minneapolis.png\" alt=\"Minneapolis\" width=\"600\" height=\"600\"/>\n",
    "\n",
    "<br>\n"
   ]
  },
  {
   "cell_type": "markdown",
   "metadata": {
    "application/vnd.databricks.v1+cell": {
     "cellMetadata": {},
     "inputWidgets": {},
     "nuid": "5d4bd935-97e6-4807-b34b-519b9dbf0222",
     "showTitle": false,
     "title": ""
    }
   },
   "source": [
    "## EDA on OTPW - Joined ATP (Airline On-Time Performance Data) and Weather\n",
    "Link to notebook : https://adb-4248444930383559.19.azuredatabricks.net/?o=4248444930383559#notebook/2798664673106065/command/2798664673111172\n",
    "\n"
   ]
  },
  {
   "cell_type": "markdown",
   "metadata": {
    "application/vnd.databricks.v1+cell": {
     "cellMetadata": {},
     "inputWidgets": {},
     "nuid": "93879980-8e57-46c7-bbf1-35e681ced0fb",
     "showTitle": false,
     "title": ""
    }
   },
   "source": [
    "## Spearman Correlation & Label Distribution (OTPW_3M)\n",
    "  \n",
    "<img src=https://raw.githubusercontent.com/bonillajorge/w261/main/spearman_correlation_matrix.png alt=\"Spearman Correlation\" width=\"800\" height=\"800\"/>\n",
    "\n",
    "\n",
    "After the null data analysis and restricting the features to Definition of Delay, we used Spearman Correlation matrix to identify correlations between the categorical and continous variables. The Spearman correlation was chosen because of its ability to handle null values and find monotonic association between linear and categorical features with respect to the label DEP_DEL_15. We removed all the highly correlated features to reduce multicollinearity, redundancy and improve robustness of the models.\n"
   ]
  },
  {
   "cell_type": "markdown",
   "metadata": {
    "application/vnd.databricks.v1+cell": {
     "cellMetadata": {},
     "inputWidgets": {},
     "nuid": "bd60fa41-dec5-407e-9753-5b344ad625a3",
     "showTitle": false,
     "title": ""
    }
   },
   "source": [
    "# EDA on 5 year dataset\n",
    "\n",
    "## Departure Delay (DEP_DEL_15) Distribution \n",
    "\n",
    "<img src=https://raw.githubusercontent.com/tajnekar/261_final_project/main/261_Final_project/Screenshots_261_Final_5yr/Distribution%20of%20Label.png  alt=\"Spearman Correlation\" width=\"600\" height=\"600\"/>\n",
    "\n",
    "<img src=https://raw.githubusercontent.com/tajnekar/261_final_project/main/261_Final_project/Screenshots_261_Final_5yr/Distribution%20of%20Label_w%3Aocancelled.png  alt=\"Spearman Correlation\" width=\"600\" height=\"600\"/>\n",
    "\n",
    "The left pie diagram shows that the DEP_DEL_15 label had nulls due the cancelled flights. Cancelled flights are skipped from this study as the given data does add necessary information such as when the flights were cancelled, impact on flight delays, etc. Pie diagram on right shows the distribution of DEP_DEL_15 after removing the nulls from label dataset.\n",
    "\n",
    "Due to the highly imbalanced DEP_DEL_15 data, accuracy was not selected as the model evalution metric as the models will always predict high accuracy towards the majority class while ignoring minority class. To avoid this issue, F1, precison and recalls will be used for model evaluations.\n",
    "\n",
    "Before creating the models, the data was also balanced using SMOTE undersampling techniques to reduce the effect of data imbalance.\n"
   ]
  },
  {
   "cell_type": "markdown",
   "metadata": {
    "application/vnd.databricks.v1+cell": {
     "cellMetadata": {},
     "inputWidgets": {},
     "nuid": "661399a5-e8bd-4b13-a810-1ed427b30c91",
     "showTitle": false,
     "title": ""
    }
   },
   "source": [
    "\n",
    "## Pair-Based Distribution of Selected Features against Departure Delays"
   ]
  },
  {
   "cell_type": "markdown",
   "metadata": {
    "application/vnd.databricks.v1+cell": {
     "cellMetadata": {
      "byteLimit": 2048000,
      "rowLimit": 10000
     },
     "inputWidgets": {},
     "nuid": "81b5b3c7-6fe2-4564-9ea4-bd95171588d3",
     "showTitle": false,
     "title": ""
    }
   },
   "source": [
    "## Calendar Features on OTPW 2015-2019\n",
    "<img src=https://raw.githubusercontent.com/tajnekar/261_final_project/main/261_Final_project/Screenshots_261_Final_5yr/Calendar_year_quarter.png alt=\"calendar months\" width=\"1000\" height=\"800\"/>\n",
    "\n",
    "<img src=https://raw.githubusercontent.com/tajnekar/261_final_project/main/261_Final_project/Screenshots_261_Final_5yr/month_week.png alt=\"calendar months\" width=\"1000\" height=\"800\"/>\n",
    "\n",
    "<img src=https://raw.githubusercontent.com/tajnekar/261_final_project/main/261_Final_project/Screenshots_261_Final_5yr/season.png alt=\"calendar months\" width=\"600\" height=\"800\"/>\n",
    "\n",
    "## Flight Distance group and Time blocks distribution\n",
    "<img src=https://raw.githubusercontent.com/tajnekar/261_final_project/main/261_Final_project/Screenshots_261_Final_5yr/timeblock_distance.png alt=\"calendar months\" width=\"1200\" height=\"800\"/> \n",
    "\n",
    "The above pair-plots shows clear time-dependent patterns, with noticeable daily, weekly, monthly and yearly fluctuations."
   ]
  },
  {
   "cell_type": "markdown",
   "metadata": {
    "application/vnd.databricks.v1+cell": {
     "cellMetadata": {},
     "inputWidgets": {},
     "nuid": "0c87e249-bafe-4636-82f3-2b2353886422",
     "showTitle": false,
     "title": ""
    }
   },
   "source": [
    "* The yearly trends shows an increase in total number of flights over years. This means that are favourable increase using the airline services.\n",
    "However, there is not a significant increase in the delay to flight ratio over years. This means that airline industry continuous to improve its services by lowering the number of delays.\n",
    "* The Quarterly, monthly, daily and time blocks shows some common patterns where delays are most frequent. Underlying patterns can help identify the reasons for delays and opportunity to improve those.\n",
    "* Season plot shows that airlines perform the best during the fall season as compare of summer and winters. This shows there could be underlying factors such as weather which impacts the flight performances"
   ]
  },
  {
   "cell_type": "markdown",
   "metadata": {
    "application/vnd.databricks.v1+cell": {
     "cellMetadata": {},
     "inputWidgets": {},
     "nuid": "dc53cd6f-4f2c-42f4-8972-9b05f5388c4a",
     "showTitle": false,
     "title": ""
    }
   },
   "source": [
    "## Departure delays based on delay types \n",
    "\n",
    "<img src=https://raw.githubusercontent.com/tajnekar/261_final_project/main/261_Final_project/Screenshots_261_Final_5yr/Delay%20Type.png alt=\"delays\" width=\"1000\" height=\"800\"/> \n",
    "\n",
    "<img src=https://raw.githubusercontent.com/tajnekar/261_final_project/main/261_Final_project/Screenshots_261_Final_5yr/Delaytype%20by%20year.png alt=\"delays\" width=\"1000\" height=\"800\"/> \n",
    "\n",
    "The delay types—carrier_delay, NAS_delay, and Late_aircraft_delay—have the most significant impact on overall delays. Weather_delays are low in number, and security_delays are almost negligible in comparison to their counterparts. The yearly plot shows the breakdown of delays by its delay type. We can see the Carrier-delays are consistently high over the years. Looking in carrier-delay in more details below.\n",
    "\n",
    "\n",
    "## Departure delay based on Unique carrier\n",
    "<img src=https://raw.githubusercontent.com/tajnekar/261_final_project/main/261_Final_project/Screenshots_261_Final_5yr/stacked_uniqcarrier.png alt=\"delays_carrier\" width=\"1000\" height=\"800\"/> \n",
    "\n",
    "## Unique Carrier and delay types\n",
    "<img src=https://raw.githubusercontent.com/tajnekar/261_final_project/main/261_Final_project/Screenshots_261_Final_5yr/Op_uniq_Carrier_delaytype.png alt=\"delayed_Carrier\" width=\"1200\" height=\"800\"/> \n",
    "\n",
    "The Unique Carrier plots shows insights on the usage of certain carrier over the others. We can see the carrier WN is mostly preferred carriers. However, it is also the top 4th carreir with highest delays ratios. The Carrier F9, B6 are less preferred carriers with low number of total flights and high number of delays. All the carrier shows similar delay types trends with maximum delays happening due to carrier delays itself. Carrier delays should definitely be considered as areas to lower the number of flight delays.\n",
    "\n"
   ]
  },
  {
   "cell_type": "markdown",
   "metadata": {
    "application/vnd.databricks.v1+cell": {
     "cellMetadata": {},
     "inputWidgets": {},
     "nuid": "1d5e74e8-07a6-4f57-93aa-7c34b1ffa688",
     "showTitle": false,
     "title": ""
    }
   },
   "source": [
    "## Top 3 Origin Cities with highest number of delays from 2015-2019\n",
    "<img src=https://raw.githubusercontent.com/tajnekar/261_final_project/main/261_Final_project/Screenshots_261_Final_5yr/Top3cities%20by%20delaycount.png alt=\"Cities\" width=\"1000\" height=\"800\"/>\n",
    "\n",
    "## Top 10 Origin Cities with highest delayed to flight ratio in 2019\n",
    "<img src=https://raw.githubusercontent.com/tajnekar/261_final_project/main/261_Final_project/Screenshots_261_Final_5yr/Delayratio_top10cities.png alt=\"Cities\" width=\"1000\" height=\"800\"/>\n",
    "\n",
    "\n"
   ]
  },
  {
   "cell_type": "markdown",
   "metadata": {
    "application/vnd.databricks.v1+cell": {
     "cellMetadata": {},
     "inputWidgets": {},
     "nuid": "c3441c4e-a704-46b4-a633-36f3a575d6f8",
     "showTitle": false,
     "title": ""
    }
   },
   "source": [
    "In conclusion, here are some important highligts from the EDA.\n",
    "\n",
    "\n",
    "* The data distribution for the label \"DEP_DEL_15\" is highly imbalanced. Due to this imbalance, we chose F1, precision, and recall as our primary model evaluation metrics instead of accuracy.\n",
    "* The SMOTE technique, such as undersampling, was employed to handle the data imbalance.\n",
    "* Cancelled and diverted flights were excluded from this analysis as the existing dataset did not provide enough information on either of the flights.\n",
    "* The data shows highly correlated features from weather and flight features.\n",
    "* The delay types—carrier_delay, NAS_delay, and Late_aircraft_delay—have the most significant impact on overall delays. Weather_delays are low in number, and security_delays are almost negligible in comparison to their counterparts.\n",
    "* Weather conditions significantly affect flight departures, with adverse weather leading to an increase in delays.\n",
    "* The data shows clear time-dependent patterns, with noticeable daily, weekly, and monthly fluctuations.\n",
    "* Certain specific hours and days have significant flight frequencies, suggesting favorable days and hours for flight usage.\n",
    "* The EDA revealed a rich set of insights into the factors influencing departure delays, and these insights will be used in our study for feature engineering, data modeling, and model evaluations."
   ]
  },
  {
   "cell_type": "markdown",
   "metadata": {
    "application/vnd.databricks.v1+cell": {
     "cellMetadata": {},
     "inputWidgets": {},
     "nuid": "03031305-8a70-4aee-ad1e-c1a151f074ba",
     "showTitle": false,
     "title": ""
    }
   },
   "source": [
    "# <center>Leakage\n",
    "\n",
    "In order to avoid leakage we ensured that for any given moment in time, our decisions and processes are based only on information that was available before that moment. For instance, if we wanted to include as a feature the proportion of flights which were delayed leaving each airport, it would create leakage to group across all of the data. Delays from the test set would be included, which means that future information about the pattern at each airport is available before it happened. To avoid this, for our features which require data for other rows, we window according to the departure time and only ever include information from flights which occur at least two hours prior to the scheduled departure. We also make sure that our imputation and scaling is only based on values obtainable in the training folds, applying scalers and imputers trained on the most recently training fold. By controlling the flow of information in this way, we avoid committing any of the cardinal sins of machine learning, which would taint our results and create the illusion of a model which would generalize better to unseen data than it actually would."
   ]
  },
  {
   "cell_type": "markdown",
   "metadata": {
    "application/vnd.databricks.v1+cell": {
     "cellMetadata": {},
     "inputWidgets": {},
     "nuid": "9929a26b-3986-4c44-9662-4807d60c6e84",
     "showTitle": false,
     "title": ""
    }
   },
   "source": [
    "# <center>Model Pipeline"
   ]
  },
  {
   "cell_type": "markdown",
   "metadata": {
    "application/vnd.databricks.v1+cell": {
     "cellMetadata": {},
     "inputWidgets": {},
     "nuid": "69eb37d4-5164-4b7c-9ca7-be4060a5054d",
     "showTitle": false,
     "title": ""
    }
   },
   "source": [
    "\n",
    "### <center> Pipeline Visualized\n",
    "\n",
    "<img src=\"https://i.ibb.co/njqx7jX/w261flowchart.png\" width=\"1000\" height=\"800\">\n",
    "\n",
    "Code Link: https://adb-4248444930383559.19.azuredatabricks.net/?o=4248444930383559#notebook/2798664673117109\n",
    "\n",
    "#### Stages Explained\n",
    "\n",
    "Feature Engineering: <br>\n",
    "During the feature engineering stage we generate all of our derived features (seen in table below). All windowing is done by looking at least 2 hours back along our UNIX and UTC timestamp column to prevent any leakage. All other features are derived from data in the row of the flight of concern and are based on datapoints available at least 2 hours prior to scheduled departure. Given that the feature engineering takes a bulk of the runtime, we checkpoint immediately after feature engineering is finished.\n",
    "\n",
    "Blocking Time Series Splits and Undersampling: <br>\n",
    "\n",
    "After withholding the blind test set, we then split the data into 5 equally sized train/validation folds. Each validation fold is taken from the time immediately after the training data for the fold. Validation sets overlap with the next train set, excepting the last fold, where the validation data is not present in any of the training data. The training data is then undersampled for the no delay case to balance the data before training. The blind validation data is the first month of the last year in the data and the blind test data is the remaining eleven months of the final year. We undersample the training data such that there are an equivalent number of cases of delayed and non-delayed flights.\n",
    "\n",
    "Encode and Impute: <br>\n",
    "\n",
    "During the encode stage we create our feature vectors and one hot encode all categorical variables. During imputation we assign all null values in numeric columns to the mean value for the column. In the future, we aim to do a lookback on the origin airport, destination airport, or flight for better robustness. During this stage we also rescale all numeric features by subtracting out the mean and dividing by the variance of the column. For categorical features, we either create a \"No Data\" term or assign the most probable option (like \"not holiday\" in the case of the IsHoliday feature). Imputers and scalers were trained on the most recently available training fold for validation folds and the blind validation/test sets. Splitting the data, encoding, and imputing only takes a few minutes, but because that data is later used in several different places, we want to save something for reference, so we checkpoint all of the data after this stage.\n",
    "\n",
    "Model Training and Evaluation: <br>\n",
    "\n",
    "For each model, we performed a Grid Search, during which we iterated through values of hyperparmeters relevant to the model type and trained against each fold, recording the F1 score for the validation and training sets on each. Once this is done, we select the best combination of hyperparameters and take that model and evaluate it against the blind validation data. The model which performed best on the blind validation set was then run against the blind test set to obtain our final metrics.\n",
    "\n",
    "### <center> Input Features\n",
    "\n",
    "Feature Count : 22\n",
    "\n",
    "| Feature        | Type | Families       | Description |\n",
    "| ----------- | ----------- | ----------- | -------- |\n",
    "| HourlyPrecipitation | Numeric | Weather Data, Numeric | As in Weather Data |\n",
    "| HourlyRelativeHumidity | Numeric | Weather Data, Numeric | As in Weather Data |\n",
    "| HourlySeaLevelPressure | Numeric | Weather Data, Numeric | As in Weather Data |\n",
    "| HourlyStationPressure | Numeric | Weather Data, Numeric | As in Weather Data |\n",
    "| HourlyVisibility | Numeric | Weather Data, Numeric | As in Weather Data |\n",
    "| HourlyWindSpeed | Numeric | Weather Data, Numeric | As in Weather Data |\n",
    "| HourlyWetBulbTemperature | Numeric | Weather Data, Numeric | As in Weather Data |\n",
    "| HourOriginDelaysRatio | Numeric |Numeric, Time Based, Derived | Ratio of delays at origin airport in last hour up to 2 hours prior to scheduled departure |\n",
    "| HourDestDelaysRatio  | Numeric |Numeric, Time Based, Derived | Ratio of delays at destination airport in last hour up to 2 hours prior to scheduled departure |\n",
    "| HourCarrierDelaysRatio | Numeric | Numeric, Time Based, Derived | Ratio of delays for carrier in last hour up to 2 hours prior to scheduled departure |\n",
    "| DayOriginDelaysRatio | Numeric | Numeric, Time Based, Derived | Ratio of delays at origin airport in last day up to 2 hours prior to scheduled departure |\n",
    "| DayDestDelaysRatio | Numeric | Numeric, Time Based, Derived | Ratio of delays at destination airport in last day up to 2 hours prior to scheduled departure |\n",
    "| DayCarrierDelaysRatio | Numeric | Numeric, Time Based, Derived | Ratio of delays for carrier in last day up to 2 hours prior to scheduled departure |\n",
    "| MonthOriginDelaysRatio | Numeric | Numeric, Time Based, Derived | Ratio of delays at origin airport in last month up to 2 hours prior to scheduled departure |\n",
    "| MonthDestDelaysRatio | Numeric | Numeric, Time Based, Derived | Ratio of delays at destination airport in last month up to 2 hours prior to scheduled departure |\n",
    "| MonthCarrierDelaysRatio | Numeric | Numeric, Time Based, Derived | Ratio of delays for carrier in last month up to 2 hours prior to scheduled departure |\n",
    "| HolidayRush | Categorical | Categorical, Derived | Whether flight occurs within 2 days of a holiday | \n",
    "| IsHoliday | Categorical | Categorical, Derived | Whether flight occurs on a holiday |\n",
    "| Season | Categorical | Categorical, Derived | Whether flight occurs in Winter, Spring, Summer, or Fall |\n",
    "| TimeSlot | Categorical | Categorical, Derived | Whether flight occurs in morning, mid-morning, afternoon, evening, or night |\n",
    "| DayOfWeek | Categorical | Categorical | As in flights data |\n",
    "| HourlyPresentWeatherType | Categorical | Categorical, Weather Data, Derived | Weather type as Snowy, Rainy, Dusty/Hazy, Foggy, or Unknown |\n",
    "\n",
    "| Family | Features | Count |\n",
    "| - | - | - |\n",
    "| Numeric | HourlyPrecipitation, HourlyRelativeHumidity, HourlySeaLevelPressure, HourlyWetBulbTemperature, HourlyStationPressure, HourlyVisibility, HourlyWindSpeed, HourOriginDelaysRatio, HourDestDelaysRatio, HourCarrierDelaysRatio, DayOriginDelaysRatio, DayDestDelaysRatio, DayCarrierDelaysRatio, MonthOriginDelaysRatio, MonthDestDelaysRatio, MonthCarrierDelaysRatio | 16 |\n",
    "| Categorical | HolidayRush, IsHoliday, Season, TimeSlot, DayOfWeek, HourlyPresentWeatherType | 6 |\n",
    "| Derived | HourOriginDelaysRatio, HourDestDelaysRatio, HourCarrierDelaysRatio, DayOriginDelaysRatio, DayDestDelaysRatio, DayCarrierDelaysRatio, MonthOriginDelaysRatio, MonthDestDelaysRatio, MonthCarrierDelaysRatio, HolidayRush, IsHoliday, Season, TimeSlot, HourlyPresentWeatherType | 14 |\n",
    "| Weather Data | HourlyWetBulbTemperature, HourlyPrecipitation, HourlyRelativeHumidity, HourlySeaLevelPressure, HourlyStationPressure, HourlyVisibility, HourlyWindSpeed, HourlyPresentWeatherType | 8 |\n",
    "| Time Based | HourOriginDelaysRatio, HourDestDelaysRatio, HourCarrierDelaysRatio, DayOriginDelaysRatio, DayDestDelaysRatio, DayCarrierDelaysRatio, MonthOriginDelaysRatio, MonthDestDelaysRatio, MonthCarrierDelaysRatio | 9 |\n",
    "\n",
    "### <center> Loss Functions\n",
    "Loss (Binary Crossentropy) : $$-\\sum_{c=1}^My_{o,c}\\log(p_{o,c})$$ <br>\n",
    "Normalization (Convex Combination of L1 and L2 Norm) : $$\\alpha(\\lambda‖w‖_{1})+(1−\\alpha)(\\frac{\\lambda}{2}‖w‖^{2}_{2}),\\alpha∈[0,1],\\lambda\\ge0$$\n",
    "\n",
    "### <center> Metrics Equations\n",
    "\n",
    "Recall: $$\\frac{TP}{TP + FN}$$ <br>\n",
    "Precision: $$\\frac{TP}{TP + FP}$$  <br>\n",
    "F1 Score: $$\\frac{2 * precision * recall}{(precision + recall)}$$ <br>\n",
    "\n",
    "### <center> Experiment Table\n",
    "\n",
    "We ran experiments to optimize the hyperparemeters of four different models, a Logistic Classifier, Random Forest Classifier, Multilayer Perceptron Classifier, XGBoost Classifier, and a Gradient Boosted Tree Classifier. Below, you will see a table of each model, the time it took to train, the best set of hyperparameters we used, and its F1 score on the blind validation data.\n",
    "\n",
    "| Model | Time to Train (minutes) | Hyperparameters | F1 Score | Notebook Link |\n",
    "| - | - | - | - | - |\n",
    "| Logistic Classifier | 9.2 | elasticNetParam=0, regParam=0 | 0.400 | https://adb-4248444930383559.19.azuredatabricks.net/?o=4248444930383559#notebook/1346418319519078 |\n",
    "| MLP 1 | 13.8 | Block size = 64, solver = l-bfgs, layers = [43,18,8,2] | .407 | https://adb-4248444930383559.19.azuredatabricks.net/?o=4248444930383559#notebook/2798664673129166/\n",
    "| MLP 2 | 22.4 | Block size = 64, solver = l-bfgs, layers = [43,32,16,8,2] | .404 | https://adb-4248444930383559.19.azuredatabricks.net/?o=4248444930383559#notebook/2798664673129166/\n",
    "| MLP 3 | 19.8 | Block size = 64, solver = l-bfgs, layers = [43,32,24,16,2] | .403 | https://adb-4248444930383559.19.azuredatabricks.net/?o=4248444930383559#notebook/2798664673129166/\n",
    "| MLP 4 | 16.1 | Block size = 64, solver = l-bfgs, layers = [43,20,16,8,4,2] | .406 | https://adb-4248444930383559.19.azuredatabricks.net/?o=4248444930383559#notebook/2798664673129166/\n",
    "| MLP 3 | 52.6 | Block size = 64, solver = l-bfgs, layers = [43,128,64,32,16,2] | .401 | https://adb-4248444930383559.19.azuredatabricks.net/?o=4248444930383559#notebook/2798664673129166/\n",
    "| Random Forest | 12.0 | numTrees = 20, maxDepth = 5 | .395 | https://adb-4248444930383559.19.azuredatabricks.net/?o=4248444930383559#notebook/1346418319519003/command/1346418319519004\n",
    "| XGBoost | 16.3 | Booster Model = GBTree, Learning Rate = 0.3 | .406 | https://adb-4248444930383559.19.azuredatabricks.net/?o=4248444930383559#notebook/1012234209191038/command/1012234209191039\n",
    "| Gradient Boosted Tree | 21.4 |  Max Depth Per Tree = 5, Max Iterations = 50, Step Size = 0.10 | .413 | https://adb-4248444930383559.19.azuredatabricks.net/?o=4248444930383559#notebook/1012234209191052/command/1012234209191053\n",
    "\n",
    "All runtimes were obtained from a cluster scaling from 1-10 workers, from 14-140GB of memory, and from 4-40 cores, with one driver with 28GB of memory and 8 cores."
   ]
  },
  {
   "cell_type": "markdown",
   "metadata": {
    "application/vnd.databricks.v1+cell": {
     "cellMetadata": {},
     "inputWidgets": {},
     "nuid": "f0b200ab-8778-485e-952b-fb5c6bc88af2",
     "showTitle": false,
     "title": ""
    }
   },
   "source": [
    "# <center>Results and Discussion"
   ]
  },
  {
   "cell_type": "markdown",
   "metadata": {
    "application/vnd.databricks.v1+cell": {
     "cellMetadata": {},
     "inputWidgets": {},
     "nuid": "607a43bc-19f6-4b4b-a2f1-e48f19b0b525",
     "showTitle": false,
     "title": ""
    }
   },
   "source": [
    "\n",
    "### Baseline Comparison\n",
    "\n",
    "Our test set has 1,264,760 positive and 5,467,521 negative cases. Assuming a uniform random guessing approach, we would see 632,370 True Positives and False Negatives and 2,733,760.5 True Negatives and False Positives. That would produce a recall of 0.5, a precision of 0.188, and 0.273. Performance beyond those values across all metrics means our model is conclusively outperforming random chance.\n",
    "\n",
    "### Model Feature Differences For Selected Models\n",
    "\n",
    "| Feature               | Random Forest Classifier                                                       | Multilayer Perceptron Classifier (MLP)                                                  | XGBoost Classifier                                                   | Gradient Boosted Tree Classifier (GBT)                                                            |\n",
    "| --------------------- | ------------------------------------------------------------------------------ | --------------------------------------------------------------------------------------- | -------------------------------------------------------------------- | ------------------------------------------------------------------------------------------------- |\n",
    "| Model type            | Ensemble learning (bagging of decision trees)                                  | Artificial neural network                                                               | Gradient boosting                                                    | Gradient boosting (ensemble of decision trees)                                                    |\n",
    "| Strengths             | High accuracy, robust to overfitting, handles missing data, feature importance | Non-linear relationships, handles large datasets, feature engineering not required      | High accuracy, scalability, customization, distributed computing     | High accuracy, handles complex non-linear relationships, interpretability                         |\n",
    "| Weaknesses            | Interpretability challenges, hyperparameter tuning, computational cost         | Overfitting risk, hyperparameter tuning, interpretability challenges                    | Hyperparameter tuning, computational cost, potential for overfitting | Hyperparameter tuning, interpretability challenges, computational cost (can be less than XGBoost) |\n",
    "| Data types            | Handles numerical and categorical data                                         | Best for numerical data, can be adapted for categorical data                            | Handles numerical and categorical data                               | Handles numerical and categorical data                                                            |\n",
    "| Interpretability      | Individual trees interpretable, ensemble behavior less clear                   | Requires advanced techniques for interpretability                                       | Feature importance metrics, early stopping techniques                | Feature importance metrics, early stopping techniques                                             |\n",
    "| Hyperparameter tuning | Numerous parameters, requires experimentation                                  | Numerous parameters, requires experimentation                                           | Numerous parameters, crucial for optimal performance                 | Requires tuning of parameters like tree depth and learning rate                                   |\n",
    "| Computational cost    | Moderate to high for large models                                              | Moderate to high for large models, potentially higher with complex activation functions | High for large models, can be mitigated with distributed computing   | Moderate to high for large models                                                                 |\n",
    "\n",
    "\n",
    "### Advanced Model Peformance Comparison\n",
    "\n",
    "|  Model    | Architecture/Hyperparameters     |  F1 Score |  Recall | Precision | Training Time (min) | \n",
    "| ----------- | ----------- | ----------- | ----------- | ----------- | ----------- |\n",
    "|Multilayer Perceptron Classifier - 1 | Block size = 64, solver = l-bfgs, layers = [43,18,8,2] | 0.407 | 0.606 | 0.306 | 13.83 |\n",
    "|Multilayer Perceptron Classifier - 2 | Block size = 64, solver = l-bfgs, layers = [43,32,16,8,2] | 0.404 | 0.605 | 0.303 | 22.35 |\n",
    "|Multilayer Perceptron Classifier - 3 | Block size = 64, solver = l-bfgs, layers = [43,32,24,16,2] | 0.403 | 0.612 | 0.300 | 19.78 |\n",
    "|Multilayer Perceptron Classifier - 4 | Block size = 64, solver = l-bfgs, layers = [43,20,16,8,4,2] | 0.406 | 0.599 | 0.307 | 16.11 |\n",
    "|Multilayer Perceptron Classifier - 5 | Block size = 64, solver = l-bfgs, layers = [43,128,64,32,16,2] | 0.401 | 0.619 | 0.296 | 52.59 |\n",
    "|Random Forest Classifier | numTrees = 20, maxDepth = 5| 0.395 | 0.609 | 0.292 | 12.00 |\n",
    "|XGBoost Classifier | Booster Model = GBTree, Learning Rate = 0.3 | 0.406 | 0.576 | 0.313 | 16.28 |\n",
    "|Gradient Boosted Tree Classifier | Max Depth Per Tree = 5, Max Iterations = 50, Step Size = 0.10 | 0.413 | 0.526 | 0.340 | 21.42 |\n",
    "\n",
    "\n",
    "### Selected Final Model\n",
    "\n",
    "|  Model    | Architecture/Hyperparameters     |  F1 Score |  Recall | Precision | Evaluation Time (sec) | \n",
    "| ----------- | ----------- | ----------- | ----------- | ----------- | ----------- |\n",
    "|Gradient Boosted Tree Classifier | Max Depth Per Tree = 5, Max Iterations = 50, Step Size = 0.10 | 0.418 | 0.655 | 0.307 | 2 |"
   ]
  },
  {
   "cell_type": "markdown",
   "metadata": {
    "application/vnd.databricks.v1+cell": {
     "cellMetadata": {},
     "inputWidgets": {},
     "nuid": "54e688c2-6cfd-4799-bcd0-b9db3c8541e9",
     "showTitle": false,
     "title": ""
    }
   },
   "source": [
    "# <center>Conclusion"
   ]
  },
  {
   "cell_type": "markdown",
   "metadata": {
    "application/vnd.databricks.v1+cell": {
     "cellMetadata": {},
     "inputWidgets": {},
     "nuid": "24da2d5e-d83d-4a07-9052-12962c6193d5",
     "showTitle": false,
     "title": ""
    }
   },
   "source": [
    "To enhance aviation customer experience, this project built a model predicting flight delays (over 15 minutes) 2 hours prior to scheduled departure using weather, flight, and airport data. We explored data, engineered features, and trained various machine learning models. Hyper parameters were optimized through grid search and validated on unseen data. The best model, identified on a blind validation set, was then evaluated on a blind test set for final performance.\n",
    "\n",
    "Key achievements:\n",
    "\n",
    " - Extensive data exploration and feature engineering, detailed visualizations aiding feature selection.\n",
    " - Streamlined pipeline for cleaning, imputation, encoding, balancing, and cross-validation. Ensuring no data leakage during any stage of the pipeline\n",
    " - Efficient checkpointing for iterative model training. \n",
    " - Selection of impactful features and optimized baseline model with F1 score selected as a measurement metric\n",
    " - Development, tuning, and selection of advanced machine learning model such as MPC, GBTC, XGBoost, and Random Forest. GBTC performed best on the blinded test data set with an F1 score of 0.418\n"
   ]
  },
  {
   "cell_type": "markdown",
   "metadata": {
    "application/vnd.databricks.v1+cell": {
     "cellMetadata": {},
     "inputWidgets": {},
     "nuid": "f599b040-f912-4764-97ba-0ef01c126be0",
     "showTitle": false,
     "title": ""
    }
   },
   "source": [
    "# <center>Gap Analysis: Best Pipeline\n",
    "\n",
    "This section describes the Gap Analysis to measure how effectively we achieved our project goals by integrating the Gradient-Boosted tree classifier within the machine learning pipeline. To summarize, the primary objective is to maximize the F1 score while predicting whether a flight will be delayed by 15 or more minutes with information available 2 hours before the scheduled departure. Given the performance of the Gradient-Boosted tree presented in the previous sections, there are 3 primary categories we would like to present in this Gap Analysis:\n",
    "\n",
    "\n",
    "#### 1. Feature Importance and Selection\n",
    "In the table below, we present the importance score for each feature in the Gradient-Boosted Tree classifier. This score denotes which features have the most influence on our delay prediction response where the highest scores have the most influence. In our selected model for the best pipeline, the scaled weather features (labeled below as \"scaled_numeric_features\") have the most influence in our delay predictions while the departure time slots also score high in importance which is to be expected as demonstrated during the EDA section. However, non-numeric features do not appear to have a high influence on the delay response which needs to be investigated as a potential improvement in the pipeline. For example, we expected the holiday season to have a higher influence on the flight delays and perhaps we need to increase our Holiday Rush window to greater than 2 days so that it spans at least 4 days. This illustrates that there are areas for improvements in our feature engineering efforts to achieve better F1 scores and provide better service to end-users.\n",
    "\n",
    "|  Feature Name    | Importance Score     | \n",
    "| ----------- | ----------- |\n",
    "| scaled_numeric_features_9 | 0.262683 |\n",
    "| scaled_numeric_features_8 | 0.110288 |\n",
    "| scaled_numeric_features_7 |\t0.105656\n",
    "| scaled_numeric_features_10 | 0.076301\n",
    "| scaled_numeric_features_17 | 0.057278\n",
    "| nonnumeric_features_TIME_SLOT_class_morning | 0.048352\n",
    "| scaled_numeric_features_1  | \t0.037427\n",
    "| scaled_numeric_features_11 | 0.033801\n",
    "| scaled_numeric_features_13 | 0.030861\n",
    "| scaled_numeric_features_1 |\t0.029434\n",
    "| scaled_numeric_features_0 | 0.028582\n",
    "| scaled_numeric_features_15 | 0.027376\n",
    "| scaled_numeric_features_12 | 0.021524\n",
    "| scaled_numeric_features_14 | 0.019378\n",
    "| nonnumeric_features_TIME_SLOT_class_night | 0.017902\n",
    "| scaled_numeric_features_5 | 0.015840\n",
    "| scaled_numeric_features_3 | 0.012642\n",
    "| scaled_numeric_features_6 | 0.010637\n",
    "| scaled_numeric_features_2  | 0.008700\n",
    "| nonnumeric_features_DAY_OF_WEEK_class_6 | 0.007252\n",
    "| nonnumeric_features_HourlyPresentWeatherType_Categorized_class_unknown |\t0.006935\n",
    "| nonnumeric_features_DAY_OF_WEEK_class_2 |\t0.005819\n",
    "| nonnumeric_features_TIME_SLOT_class_mid-morning |\t0.005227\n",
    "| scaled_numeric_features_4 |\t0.005192\n",
    "| nonnumeric_features_DAY_OF_WEEK_class_7 |\t0.003209\n",
    "| nonnumeric_features_DAY_OF_WEEK_class_4 |\t0.002841\n",
    "| nonnumeric_features_TIME_SLOT_class_evening |\t0.002172\n",
    "| nonnumeric_features_DAY_OF_WEEK_class_1 |\t0.002031\n",
    "| nonnumeric_features_HourlyPresentWeatherType_Categorized_class_snow |\t0.001266\n",
    "| nonnumeric_features_TIME_SLOT_class_afternoon |\t0.001217\n",
    "| nonnumeric_features_IS_HOLIDAY_class_0 | 0.001039\n",
    "| nonnumeric_features_DAY_OF_WEEK_class_5 |\t0.000388\n",
    "| nonnumeric_features_DAY_OF_WEEK_class_3 |\t0.000374\n",
    "| nonnumeric_features_HourlyPresentWeatherType_Categorized_class_haze |\t0.000336\n",
    "| nonnumeric_features_HourlyPresentWeatherType_Categorized_class_rain |\t0.000040\n",
    "| nonnumeric_features_HourlyPresentWeatherType_Categorized_class_wind_dust |\t0.000000\n",
    "| nonnumeric_features_SEASON_class_unknown | 0.000000\n",
    "| nonnumeric_features_HOLIDAY_RUSH_class_1 | 0.000000\n",
    "| nonnumeric_features_HOLIDAY_RUSH_class_0 | 0.000000\n",
    "| nonnumeric_features_IS_HOLIDAY_class_1 | 0.000000\n",
    "\n",
    "#### 2. Flights Qualified Incorrectly\n",
    "The confusion matrix below demonstrates the predictive performance of our best pipeline with Gradient-boosted trees on the blind test dataset. From the total number of flights that were delayed, we predicted that approximately 65.55% are delayed based on the Recall metric when testing against the blind test set. While we achieved the lowest possible number of False Negatives, flights predicted as On-Time but result being delayed, we could improve our metrics by performing additional future engineering.\n",
    "\n",
    "<img src=https://raw.githubusercontent.com/bonillajorge/w261/main/confusion_matrix.png alt=\"Confusion Matrix\" width=\"600\" height=\"600\"/>\n",
    "\n",
    "#### 3. Scale of Metrics\n",
    "In this project we agreed to maximize the F1 score due to the imbalance of our dataset. Upon future work, we will consider other metrics of success such as F2 scores since this assigns more importance to Recall scores. Being able to scale our data balancing efforts with approaches such as Synthetic Minority Oversampling Technique (SMOTE), and apart from undersampling, will also be necessary to consider different metrics of success such as Accuracy and F0.5 scores."
   ]
  },
  {
   "cell_type": "markdown",
   "metadata": {
    "application/vnd.databricks.v1+cell": {
     "cellMetadata": {},
     "inputWidgets": {},
     "nuid": "70819bea-45f7-4afc-90e9-608c465e3029",
     "showTitle": false,
     "title": ""
    }
   },
   "source": [
    "# <center>Next Steps"
   ]
  },
  {
   "cell_type": "markdown",
   "metadata": {
    "application/vnd.databricks.v1+cell": {
     "cellMetadata": {},
     "inputWidgets": {},
     "nuid": "33d18432-9f9c-4401-bcac-fd6716d41727",
     "showTitle": false,
     "title": ""
    }
   },
   "source": [
    "As next steps for this project, we recommend the following strategies:\n",
    "\n",
    " - Building an ensemble model: custom built using spark pipelines, there is a potential to combine the predictions from weaker models and reducing the overall variance of the model, in addition ensemble models can also capture complex non-linear relationships between features better when compared to single models. When building the ensemble model pipeline potential for overfitting must be checked, along with use of seasoned developers as ensemble models tend to be more complex compared to single models.\n",
    " - Data augmentation: The current dataset is heavily imbalanced and lacks key features that can improve the prediction performance of the model. We think if the current dataset can be augmented using following datasets it will result in an improved model:\n",
    "\t - Track record of airlines distributed by airport.\n",
    "\t - Pilot and crew data: assessing features like pilot fatigue, and pilot experience.\n",
    "\t - Air-traffic control (ATC) data with features like congestion, and flow rate.\n",
    "\t - Airport security check data: features that provide information around time taken by an average traveller to clear the security line.\n",
    "\t - Operations data: features like ground crew shortages, refueling time, severe weather handling equipment, time taken for operations like de-icing, and maintenance logs.\n",
    "\t - Booking data: features like overbooking.\n",
    "\t - Commercial data: features where route preference information is available, for instance is the system optimized towards higher paying routes.\n"
   ]
  },
  {
   "cell_type": "markdown",
   "metadata": {
    "application/vnd.databricks.v1+cell": {
     "cellMetadata": {},
     "inputWidgets": {},
     "nuid": "c0c7f641-3e2a-4247-b4f3-d3ec984008b5",
     "showTitle": false,
     "title": ""
    }
   },
   "source": [
    "# <center>References\n",
    "\n",
    "1. https://www.fodors.com/news/news/study-it-costs-each-passenger-383-every-time-theres-a-flight-delay\n",
    "2. https://www.wsj.com/lifestyle/travel/airports-delays-cancellations-low-fares-1aa90b6a?mod=hp_lead_pos10\n",
    "3. https://www.nerdwallet.com/article/travel/do-airlines-owe-you-money-for-delays-or-cancellations\n",
    "4. https://www.airlines.org/dataset/u-s-passenger-carrier-delay-costs/#:~:text=Assuming%20%2447%20per%20hour*%20as,2018%20to%20be%20%2428%20billion.\n",
    "5. https://weather.com/sports-recreation/ski/news/20-coldest-large-cities-america-20140107\n",
    "6. http://scikit-learn.org/stable/modules/generated/sklearn.ensemble.RandomForestClassifier.html\n",
    "7. https://www.stat.berkeley.edu/~breiman/RandomForests/\n",
    "8. http://scikit-learn.org/stable/modules/neural_networks_supervised.html\n",
    "9. https://developers.google.com/machine-learning/crash-course/introduction-to-neural-networks/video-lecture\n",
    "10. https://machinelearningmastery.com/gentle-introduction-xgboost-applied-machine-learning/\n",
    "11. https://xgboost.readthedocs.io/en/stable/R-package/xgboostPresentation.html\n",
    "12. http://scikit-learn.org/stable/modules/generated/sklearn.ensemble.GradientBoostingClassifier.html\n",
    "13. https://en.wikipedia.org/wiki/XGBoost"
   ]
  },
  {
   "cell_type": "code",
   "execution_count": 0,
   "metadata": {
    "application/vnd.databricks.v1+cell": {
     "cellMetadata": {},
     "inputWidgets": {},
     "nuid": "5d791a35-2677-446e-9b0e-fe4335e9d3d0",
     "showTitle": false,
     "title": ""
    }
   },
   "outputs": [],
   "source": []
  }
 ],
 "metadata": {
  "application/vnd.databricks.v1+notebook": {
   "dashboards": [],
   "language": "python",
   "notebookMetadata": {
    "pythonIndentUnit": 4
   },
   "notebookName": "W261_5-2_Phase3_Report",
   "widgets": {}
  }
 },
 "nbformat": 4,
 "nbformat_minor": 0
}
